{
 "cells": [
  {
   "cell_type": "markdown",
   "metadata": {},
   "source": [
    "# The Wealth of Cities\n",
    "## Predicting the Wealth of a City from Satellite Imagery"
   ]
  },
  {
   "cell_type": "markdown",
   "metadata": {},
   "source": [
    "Accurate measurements of the economic characteristics of populations critically influence research and policy. Such measurements can shape decisions by governments and how to allocate resources and provide infrastructure to improve human livelihoods in a wide-range of situations. Although economic data is readily available for some developing nations, many regions of the modern world remain unexposed to the benefits of economic analysis where regions lack key measures of economic development and efficiency. Regions such as parts of Africa conduct little to no economic surveys or other means of collecting data on their financial situations. We attempt to address this problem by using publicly available satellite imagery to predict the wealth of a city (or, more generally, a geographic region) based on fundamental features identified in these images and running them through a convolutional neural network. Not only would this method be applicable to regions that lack economic data, but could also be applied to cities with a wealth of economic information on a macro level but a dearth on a micro level. For example, cities in America, despite having lots of economic data on state and county levels, could benefit from understanding more granular information in order to improve policy decisions for infrastructure and public support. \n",
    "\n",
    "In order for this approach to work, we need to be able to extract relevant features from the images in order to train our machine learning model. Our model will not be able to predict the wealth of individual houses (i.e., families), but will work on clusters of houses (i.e., neighborhoods) because of the complexity of wealth measurements and tendency for neighborhood to be at a nearly homogeneous economic level. As a result, we will need to extract \"cluster\" features to process with our (NEURAL NETWORK).\n",
    "\n",
    "Thinking about the kinds of features that would elucidate the wealth of a region, we can start to identify what we need to extract (in some way) from the images. One of the first and most common thoughts is to get satellite imagery of the region at night and observe the night-light intensity; more lights at night tend to correspond with more wealth while less lights at night tend to correspond with poorer areas. Our group has also thought of the following ideas as means to identify wealth:\n",
    "- Number of cars\n",
    "- Percentage of green-space\n",
    "- Number of high-rises\n",
    "- What time traffic occurs at\n",
    "- Housing density\n",
    "- Aerospace/nautical infrastructure\n",
    "\n",
    "The number of of cars tends to be a good indicator or whether a city has passed a certain threshold for wealth. Yes, some cities that are poorer than others will have more cars, but cities that have no cars tend to be the poorest, so we can figure out a baseline level for the wealth of a city if we can extract the number of cars from the image.\n",
    "\n",
    "Percentage of green space is perhaps even less reliable than the number of cars, but can also establish relative rankings of wealth between multiple cities. Cities with lots of public funds, and consequently wealth, will tend to spend money on maintaining public green-spaces. Granted, some rural regions tend to also have a lot of green-space in the form of farms or undeveloped land, so in this case green-space does not correspond to higher wealth. However, if we can ensure that the imagery we are looking at represents a urban city, we could perhaps take into  green-space into account to predict the level of wealth.\n",
    "\n",
    "Number of high-rises is definitely a critical feature of a city's wealth. However, extracting this information from satellite imagery proves to be tricky because of the flatness of the images. One way to get around this is to analyze the shadows produced by buildings at different times of the day. If the buildings are tall, they will cast long shadows at all times of the day (not only briefly in the morning and night).\n",
    "\n",
    "Housing density is highly correlated to the \"urban-ness\" of a region, which in turn is suggestive of the wealth of a city. Rural areas (i.e., poorer, generally) have a lower housing density while urban areas (i.e., wealthier, generally) have a higher housing density. Granted, there are exceptions to this trend, but generally this fact will hold and is one of the easier features to extract from satellite imagery.\n",
    "\n",
    "We will be getting our images from Planet.com, a publicly available database of satellite imagery from the last few years that covers most of the world. Unfortunately, API access is limited to California so we will only be able to run our model using data from California, but there is no reason that this method would not work given more input data from around the world.\n",
    "\n",
    "In this notebook, we'll take you through the entire process from setting up the program to download images and extract features to running the data through the machine learning pipeline and getting a predicted wealth score for input data. \n",
    "\n",
    "First, we'll input the necessary modules. `json` and `io` are just used to load in our Planet.com API key. You can sign up for a free account at https://www.planet.com/. The approval process will take a few days, but after receiving your API key, this entire notebook can be completed in one sitting. We will be using the `requests` module to make API requests for the satellite imagery, which requires authorization using the `requests.auth` module."
   ]
  },
  {
   "cell_type": "code",
   "execution_count": 55,
   "metadata": {
    "collapsed": false
   },
   "outputs": [],
   "source": [
    "import numpy as np\n",
    "import json, io, math\n",
    "import requests\n",
    "from requests.auth import HTTPBasicAuth\n",
    "from PIL import Image\n",
    "from PIL import ImageColor\n",
    "from scipy.misc import toimage\n",
    "import scipy.ndimage\n",
    "# with Anaconda run 'conda install -c https://conda.binstar.org/menpo opencv' to get cv2\n",
    "import cv2"
   ]
  },
  {
   "cell_type": "code",
   "execution_count": 43,
   "metadata": {
    "collapsed": true
   },
   "outputs": [],
   "source": [
    "# LOADS in your API_KEY from the config_secret.json file\n",
    "with io.open(\"config_secret.json\") as cred:\n",
    "    API_KEY = json.load(cred)[\"API_KEY\"]\n",
    "\n",
    "BASE_URL = \"https://maps.googleapis.com/maps/api/staticmap\"\n",
    "MAX_RGB = 255\n",
    "DEFAULT_SIZE = 600\n",
    "DEFAULT_VISIBILITY = \"off\"\n",
    "\n",
    "# (lat/pixel, lon/pixel)\n",
    "# Multiply by pixels to see lat/lon span of image\n",
    "# Only want zoom levels 13-20\n",
    "# City zoom = 12\n",
    "ZOOMS = {\n",
    "    12: (0.06/230, 0.06/175),\n",
    "    13: (0.02/153, 0.02/116),\n",
    "    14: (0.008/122, 0.008/122),\n",
    "    15: (0.008/245, 0.008/187),\n",
    "    16: (0.003/183, 0.003/140),\n",
    "    17: (0.002/245, 0.002/186),\n",
    "    18: (0.001/245, 0.001/186),\n",
    "    19: (0.0005/245, 0.0005/186),\n",
    "    20: (0.0002/196, 0.0002/149)\n",
    "}"
   ]
  },
  {
   "cell_type": "code",
   "execution_count": 45,
   "metadata": {
    "collapsed": false,
    "scrolled": true
   },
   "outputs": [],
   "source": [
    "def find_roads(roadmap):\n",
    "    # This function returns the coordinates of the output from google static maps api with maptype roadmap, \n",
    "    # As a Numpy Array.  \n",
    "    roads = []\n",
    "    for i in range(roadmap.shape[0]):\n",
    "        for j in range(roadmap.shape[1]):\n",
    "            if(roadmap[i][j][1] > roadmap[i][j][0] and roadmap[i][j][1] > roadmap[i][j][2]):\n",
    "                roads += [(i, j)]\n",
    "    return roads\n",
    "\n",
    "def load_image(content):\n",
    "    return Image.open(io.BytesIO(content)).convert(\"RGBA\").convert(\"RGB\")\n",
    "\n",
    "def rgb_to_hex(rgb_tuple):\n",
    "    return \"0x%02x%02x%02x\" % rgb_tuple\n",
    "\n",
    "def create_payload(mode, (lat, lon), zoom, params={}, ret_colors=True):\n",
    "\n",
    "    size = params.get(\"size\", (DEFAULT_SIZE, DEFAULT_SIZE))\n",
    "    padding = params.get(\"padding\", 0)\n",
    "    road_color = params.get(\"road_color\", (0, MAX_RGB, 0))\n",
    "    road_color_hex = rgb_to_hex(road_color)\n",
    "    man_made_color = params.get(\"man_made_color\", (0, 0, 0))\n",
    "    man_made_color_hex = rgb_to_hex(man_made_color)\n",
    "    poi_color = params.get(\"poi_color\", (MAX_RGB, 0, 0))\n",
    "    poi_color_hex = rgb_to_hex(poi_color)\n",
    "    water_color = params.get(\"water_color\", (0, 0, MAX_RGB))\n",
    "    water_color_hex = rgb_to_hex(water_color)\n",
    "    natural_color = params.get(\"natural_color\", (MAX_RGB, 0, MAX_RGB))\n",
    "    natural_color_hex = rgb_to_hex(natural_color)\n",
    "    label_visibility = params.get(\"label_visibility\", DEFAULT_VISIBILITY)\n",
    "\n",
    "    base_payload = [(\"size\", \"{}x{}\".format(size[0],size[1])), (\"key\", API_KEY)]\n",
    "    style_payload = [(\"style\", \"feature:road|element:geometry|color:{}\".format(road_color_hex)),\n",
    "                     (\"style\", \"feature:landscape.man_made|element:geometry.fill|color:{}\".format(man_made_color_hex)),\n",
    "                     (\"style\", \"element:labels|visibility:{}\".format(label_visibility)),\n",
    "                     (\"style\", \"feature:poi|element:geometry|color:{}\".format(poi_color_hex)),\n",
    "                     (\"style\", \"feature:water|element:geometry|color:{}\".format(water_color_hex)),\n",
    "                     (\"style\", \"feature:landscape.natural|element:geometry.fill|color:{}\".format(natural_color_hex))]\n",
    "    satellite_payload = base_payload + [(\"maptype\", \"satellite\")]\n",
    "    road_payload = base_payload + style_payload + [(\"maptype\", \"roadmap\")]\n",
    "    \n",
    "    if mode == \"satellite\": payload = satellite_payload \n",
    "    elif mode == \"road\": payload = road_payload\n",
    "    else: raise ValueError(\"Unrecognized mode '{}'. Mode can either be 'satellite' or 'road'.\".format(mode))\n",
    "        \n",
    "    payload += [(\"zoom\", zoom)] + [(\"center\", \"{},{}\".format(lat, lon))]\n",
    "    colors = {\n",
    "        \"road\": np.array(road_color),\n",
    "        \"man_made\": np.array(man_made_color), \n",
    "        \"poi\": np.array(poi_color),\n",
    "        \"water\": np.array(water_color),\n",
    "        \"natural\": np.array(natural_color)\n",
    "    }\n",
    "    \n",
    "    return (payload, colors) if ret_colors else payload\n",
    "    \n",
    "\n",
    "# bottom left, top right corners\n",
    "def bounding_box((lat1,lon1), (lat2,lon2), zoom):\n",
    "    w = lon2 - lon1\n",
    "    h = lat2 - lat1\n",
    "    padding = 0,0\n",
    "    \n",
    "    w_per_image = (DEFAULT_SIZE - padding[0]) * ZOOMS[zoom][1]\n",
    "    h_per_image = (DEFAULT_SIZE - padding[1]) * ZOOMS[zoom][0]\n",
    "    \n",
    "    num_width = math.ceil(w / w_per_image)\n",
    "    num_height = math.ceil(h / h_per_image)\n",
    "    \n",
    "    lons = np.linspace(lon1 + w_per_image/2, lon2 - w_per_image/2, num=num_width)\n",
    "    lats = np.linspace(lat1 + h_per_image/2, lat2 - h_per_image/2, num=num_height)\n",
    "    \n",
    "    return lats, lons\n",
    "\n",
    "def get_image(lat, lon, payload, zoom):\n",
    "    r = requests.get(BASE_URL, params=payload)\n",
    "    image = load_image(r.content)\n",
    "    return image\n",
    "    \n",
    "\n",
    "def get_images((lat1,lon1), (lat2,lon2), zoom, mode, ret_colors=True):\n",
    "    lats, lons = bounding_box((lat1,lon1), (lat2,lon2), zoom)\n",
    "    images = []\n",
    "    \n",
    "\n",
    "    for lat in lats:\n",
    "        for lon in lons:\n",
    "            payload, colors = create_payload(mode, (lat, lon), zoom)\n",
    "            images.append( get_image(lat, lon, payload, zoom) )\n",
    "            \n",
    "    return (images, colors) if ret_colors else images"
   ]
  },
  {
   "cell_type": "code",
   "execution_count": 44,
   "metadata": {
    "collapsed": true
   },
   "outputs": [],
   "source": [
    "def count_pixels(im_arr, color, tolerance=10):\n",
    "    lower_bound = color - tolerance\n",
    "    lower_bound[lower_bound < 0] = 0\n",
    "    upper_bound = color + tolerance\n",
    "    upper_bound[upper_bound > MAX_RGB] = MAX_RGB\n",
    "    return np.sum(np.all((im_arr >= lower_bound) & (im_arr <= upper_bound), axis=2))\n",
    "\n",
    "def extract_features(im_arr, colors, tolerance=10):\n",
    "    pixels = {\n",
    "        \"total\": im_arr.shape[0] * im_arr.shape[1]\n",
    "    }\n",
    "    \n",
    "    for kind, color in colors.iteritems():\n",
    "        pixels[kind] = count_pixels(im_arr, color, tolerance=tolerance)\n",
    "\n",
    "    print \"PIXEL KINDS:\", pixels"
   ]
  },
  {
   "cell_type": "code",
   "execution_count": 42,
   "metadata": {
    "collapsed": false
   },
   "outputs": [],
   "source": [
    "### RUN THIS CELL ###\n",
    "# zoom = 13 -> 6 images (1.5 seconds)\n",
    "pgh_images, colors = get_images((40.417268, -80.036749), (40.503523, -79.823013), 13, \"road\")"
   ]
  },
  {
   "cell_type": "code",
   "execution_count": 31,
   "metadata": {
    "collapsed": false
   },
   "outputs": [
    {
     "ename": "NameError",
     "evalue": "name 'pgh_images' is not defined",
     "output_type": "error",
     "traceback": [
      "\u001b[0;31m---------------------------------------------------------------------------\u001b[0m",
      "\u001b[0;31mNameError\u001b[0m                                 Traceback (most recent call last)",
      "\u001b[0;32m<ipython-input-31-5b1ddb2d5018>\u001b[0m in \u001b[0;36m<module>\u001b[0;34m()\u001b[0m\n\u001b[1;32m      1\u001b[0m \u001b[0;31m### THEN RUN THIS CELL ###\u001b[0m\u001b[0;34m\u001b[0m\u001b[0;34m\u001b[0m\u001b[0m\n\u001b[0;32m----> 2\u001b[0;31m \u001b[0;32mfor\u001b[0m \u001b[0mimage\u001b[0m \u001b[0;32min\u001b[0m \u001b[0mpgh_images\u001b[0m\u001b[0;34m:\u001b[0m\u001b[0;34m\u001b[0m\u001b[0m\n\u001b[0m\u001b[1;32m      3\u001b[0m     \u001b[0mimage_array\u001b[0m \u001b[0;34m=\u001b[0m \u001b[0mnp\u001b[0m\u001b[0;34m.\u001b[0m\u001b[0masarray\u001b[0m\u001b[0;34m(\u001b[0m\u001b[0mimage\u001b[0m\u001b[0;34m)\u001b[0m\u001b[0;34m\u001b[0m\u001b[0m\n\u001b[1;32m      4\u001b[0m     \u001b[0mextract_features\u001b[0m\u001b[0;34m(\u001b[0m\u001b[0mimage_array\u001b[0m\u001b[0;34m,\u001b[0m \u001b[0mcolors\u001b[0m\u001b[0;34m)\u001b[0m\u001b[0;34m\u001b[0m\u001b[0m\n",
      "\u001b[0;31mNameError\u001b[0m: name 'pgh_images' is not defined"
     ]
    }
   ],
   "source": [
    "### THEN RUN THIS CELL ###\n",
    "for image in pgh_images:\n",
    "    image_array = np.asarray(image)\n",
    "    extract_features(image_array, colors)"
   ]
  },
  {
   "cell_type": "code",
   "execution_count": 6,
   "metadata": {
    "collapsed": false
   },
   "outputs": [],
   "source": [
    "### OLD CODE ###\n",
    "# SHIPPING_LANE_COLOR = (120, 160, 248)\n",
    "\n",
    "# payload += [(\"markers\", \"color:red|color:red|label:B|{},{}\".format(lat + 0.0002, lon + 0.0002))]\n",
    "# payload += [(\"markers\", \"color:red|color:red|label:A|{},{}\".format(lat, lon))]\n",
    "# print str(lat) + \",\" + str(lon) + \",\" + ZOOM_OUT[0][1] + \"z\"\n",
    "\n",
    "# lat = lat1 + (lat2 - lat1) / 2\n",
    "# lon = lon1 + (lon2 - lon1) / 2\n",
    "# payload =  SATELLITE_PAYLOAD + [(\"zoom\", zoom)] + [(\"center\", \"{},{}\".format(lat, lon))]\n",
    "# r = requests.get(BASE_URL, params=payload)\n",
    "# im = open_image(r.content)\n",
    "# im.show()\n",
    "\n",
    "# road_payload =  ROADMAP_PAYLOAD + [(\"center\", \"40.714728,-73.9988\"), (\"zoom\", \"20\")]\n",
    "# satellite_payload = SATELLITE_PAYLOAD + [(\"center\", \"40.714728,-73.9988\"), (\"zoom\", \"20\")]\n",
    "# r = requests.get(BASE_URL, params=road_payload)\n",
    "# print r.url\n",
    "# r2 = requests.get(BASE_URL, params=satellite_payload)\n",
    "# im = open_image(r.content)\n",
    "# roadmap_ar = np.asarray(im)\n",
    "# roads = find_roads(roadmap_ar)\n",
    "# roadsonly = np.zeros(roadmap_ar.shape)\n",
    "# for (i, j) in roads:\n",
    "#     roadsonly[i][j] = np.array([255,255,255])\n",
    "# toimage(roadsonly).show()\n",
    "# sat = open_image(r2.content)\n",
    "# sat.show()\n",
    "\n",
    "# venice_payload = ROADMAP_PAYLOAD + [(\"center\", \"45.4355638,12.31794\"), (\"zoom\", 14)]\n",
    "# r = requests.get(BASE_URL, params=venice_payload)\n",
    "# im = open_image(r.content)\n",
    "# im.show()"
   ]
  },
  {
   "cell_type": "code",
   "execution_count": 46,
   "metadata": {
    "collapsed": false
   },
   "outputs": [
    {
     "data": {
      "text/plain": [
       "True"
      ]
     },
     "execution_count": 46,
     "metadata": {},
     "output_type": "execute_result"
    }
   ],
   "source": [
    "road_payload, colors = create_payload(\"road\", (40.714728,-73.9988), 20)\n",
    "sat_payload, colors = create_payload(\"satellite\", (40.714728,-73.9988), 20)\n",
    "r = requests.get(BASE_URL, params=road_payload)\n",
    "im = load_image(r.content)\n",
    "r2 = requests.get(BASE_URL, params=sat_payload)\n",
    "im2 = load_image(r2.content)\n",
    "sat_ar = np.asarray(im2)\n",
    "roadmap_ar = np.asarray(im)\n",
    "roads = find_roads(roadmap_ar)\n",
    "roadsonly = np.zeros(roadmap_ar.shape)\n",
    "for (i, j) in roads:\n",
    "    roadsonly[i][j] = sat_ar[i][j]\n",
    "cv2.imwrite(\"thing.png\", sat_ar)"
   ]
  },
  {
   "cell_type": "code",
   "execution_count": 8,
   "metadata": {
    "collapsed": true
   },
   "outputs": [],
   "source": [
    "def road_variance((lat, lon), zoom):\n",
    "    road_payload, colors = create_payload('road', (lat, lon), zoom)\n",
    "    sat_payload, colors = create_payload('satellite', (lat, lon), zoom)\n",
    "    r = requests.get(BASE_URL, params=road_payload)\n",
    "    im = load_image(r.content)\n",
    "    r2 = requests.get(BASE_URL, params=sat_payload)\n",
    "    im2 = load_image(r2.content)\n",
    "    sat_ar = np.asarray(im2)\n",
    "    roadmap_ar = np.asarray(im)\n",
    "    roads = find_roads(roadmap_ar)\n",
    "    road_pixels = map(lambda (x, y) : sat_ar[x][y], roads)\n",
    "    return sum(np.std(road_pixels, axis=1))"
   ]
  },
  {
   "cell_type": "code",
   "execution_count": 64,
   "metadata": {
    "collapsed": false
   },
   "outputs": [
    {
     "data": {
      "text/plain": [
       "numpy.dtype"
      ]
     },
     "execution_count": 64,
     "metadata": {},
     "output_type": "execute_result"
    }
   ],
   "source": [
    "def highlight_cars(template_files, image, angular_granularity = 8):\n",
    "    if(isinstance(image, (str, unicode))):\n",
    "        img_rgb = cv2.imread(image)\n",
    "    else:\n",
    "        img_rgb = image\n",
    "    img_gray = cv2.cvtColor(img_rgb, cv2.COLOR_BGR2GRAY)\n",
    "    loc = (np.array([]), np.array([]))\n",
    "    for template_file in template_files:\n",
    "        template = cv2.imread(template_file,0)\n",
    "        w, h = template.shape[::-1]\n",
    "        for i in range(angular_granularity):\n",
    "            template = scipy.ndimage.rotate(template, 360/(angular_granularity), mode = 'constant')\n",
    "            res = cv2.matchTemplate(img_gray,template,cv2.TM_CCOEFF_NORMED)\n",
    "            threshold = 0.4\n",
    "            found = np.where(res > theshold)\n",
    "            loc = (np.append(loc[0], found[0]).astype(int), np.append(loc[1], found[1]).astype(int))\n",
    "    for pt in zip(*loc[::-1]):\n",
    "        cv2.rectangle(img_rgb, pt, (pt[0] + w, pt[1] + h), (0,0,255), 2)\n",
    "    return img_rgb\n",
    " \n",
    "type(cv2.imread(\"car_template.png\").dtype)\n",
    "#cv2.imwrite('res.png', highlight_cars(['car_template2.png', 'car_template.png'], 'thing2.png', angular_granularity=16))"
   ]
  },
  {
   "cell_type": "code",
   "execution_count": 67,
   "metadata": {
    "collapsed": false
   },
   "outputs": [
    {
     "ename": "error",
     "evalue": "/Users/jenkins/miniconda/0/2.7/conda-bld/work/opencv-2.4.11/modules/imgproc/src/canny.cpp:94: error: (-215) src.depth() == CV_8U in function Canny\n",
     "output_type": "error",
     "traceback": [
      "\u001b[0;31m---------------------------------------------------------------------------\u001b[0m",
      "\u001b[0;31merror\u001b[0m                                     Traceback (most recent call last)",
      "\u001b[0;32m<ipython-input-67-9e5a4b1d0170>\u001b[0m in \u001b[0;36m<module>\u001b[0;34m()\u001b[0m\n\u001b[1;32m     16\u001b[0m \u001b[0;31m#toimage(sat_ar).show()\u001b[0m\u001b[0;34m\u001b[0m\u001b[0;34m\u001b[0m\u001b[0m\n\u001b[1;32m     17\u001b[0m \u001b[0;31m#cv2.imread(roadsonly,0)\u001b[0m\u001b[0;34m\u001b[0m\u001b[0;34m\u001b[0m\u001b[0m\n\u001b[0;32m---> 18\u001b[0;31m \u001b[0medges\u001b[0m \u001b[0;34m=\u001b[0m \u001b[0mcv2\u001b[0m\u001b[0;34m.\u001b[0m\u001b[0mCanny\u001b[0m\u001b[0;34m(\u001b[0m\u001b[0mroadsonly\u001b[0m\u001b[0;34m.\u001b[0m\u001b[0mastype\u001b[0m\u001b[0;34m(\u001b[0m\u001b[0mfloat\u001b[0m\u001b[0;34m)\u001b[0m\u001b[0;34m,\u001b[0m\u001b[0;36m100\u001b[0m\u001b[0;34m,\u001b[0m\u001b[0;36m200\u001b[0m\u001b[0;34m)\u001b[0m\u001b[0;34m\u001b[0m\u001b[0m\n\u001b[0m\u001b[1;32m     19\u001b[0m \u001b[0mtoimage\u001b[0m\u001b[0;34m(\u001b[0m\u001b[0medges\u001b[0m\u001b[0;34m)\u001b[0m\u001b[0;34m.\u001b[0m\u001b[0mshow\u001b[0m\u001b[0;34m(\u001b[0m\u001b[0;34m)\u001b[0m\u001b[0;34m\u001b[0m\u001b[0m\n",
      "\u001b[0;31merror\u001b[0m: /Users/jenkins/miniconda/0/2.7/conda-bld/work/opencv-2.4.11/modules/imgproc/src/canny.cpp:94: error: (-215) src.depth() == CV_8U in function Canny\n"
     ]
    }
   ],
   "source": [
    "lat, lon = (40.714728,-73.9988)\n",
    "zoom = 20\n",
    "road_payload, colors = create_payload('road', (lat, lon), zoom)\n",
    "sat_payload, colors = create_payload('satellite', (lat, lon), zoom)\n",
    "r = requests.get(BASE_URL, params=road_payload)\n",
    "im = load_image(r.content)\n",
    "r2 = requests.get(BASE_URL, params=sat_payload)\n",
    "im2 = load_image(r2.content)\n",
    "sat_ar = np.asarray(im2)\n",
    "roadmap_ar = np.asarray(im)\n",
    "roads = find_roads(roadmap_ar)\n",
    "np.zeros(roadmap_ar.shape, dtype = float)\n",
    "for (i, j) in roads:\n",
    "    roadsonly[i][j] = sat_ar[i][j]\n",
    "#toimage(roadmap_ar).show()\n",
    "#toimage(sat_ar).show()\n",
    "#cv2.imread(roadsonly,0)\n",
    "edges = cv2.Canny(roadsonly.astype(float),100,200)\n",
    "toimage(edges).show()"
   ]
  },
  {
   "cell_type": "code",
   "execution_count": 50,
   "metadata": {
    "collapsed": false
   },
   "outputs": [
    {
     "name": "stdout",
     "output_type": "stream",
     "text": [
      "[4 5 6]\n"
     ]
    }
   ],
   "source": [
    "x = np.array([3, 4, 5, 6, 7])\n",
    "print x[(x > 3) & (x < 7)]\n"
   ]
  },
  {
   "cell_type": "markdown",
   "metadata": {},
   "source": [
    "To get an idea of what these satellite images look like, we will show you how to download a single image and then proceed to, what Planet calls, an Area of Interest, or AOI. First, we define a geometry, which is a collection of latitude and longitude points  that forms a polygon around the area you would like to get pictures from. Remember that Planet API only works with California right now, so if you want to change the coordinates, make sure they remain within the state. Our example geometry is centered on a reservoir in Redding, CA. Next, we'll need to define filters for the Planet API; these include the geometry filter discussed above, as well as date range filters (only getting images within a specified date range), cloud cover filters (perhaps you only want to look at images on clear day), and many more. We then send this request to the Stats API endpoint to see how many possible images there are that fit our criteria. In our example, there are 30 images taken of Redding, CA within the date range that have less than 50% cloud cover."
   ]
  },
  {
   "cell_type": "code",
   "execution_count": null,
   "metadata": {
    "collapsed": true
   },
   "outputs": [],
   "source": []
  }
 ],
 "metadata": {
  "anaconda-cloud": {},
  "kernelspec": {
   "display_name": "Python [Root]",
   "language": "python",
   "name": "Python [Root]"
  },
  "language_info": {
   "codemirror_mode": {
    "name": "ipython",
    "version": 2
   },
   "file_extension": ".py",
   "mimetype": "text/x-python",
   "name": "python",
   "nbconvert_exporter": "python",
   "pygments_lexer": "ipython2",
   "version": "2.7.12"
  }
 },
 "nbformat": 4,
 "nbformat_minor": 0
}
